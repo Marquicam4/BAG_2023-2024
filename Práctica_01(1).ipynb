{
 "cells": [
  {
   "cell_type": "markdown",
   "metadata": {},
   "source": [
    "### El lenguaje de programación _Python_"
   ]
  },
  {
   "cell_type": "markdown",
   "metadata": {},
   "source": [
    "El objetivo de esta práctica es realizar una serie de ejercicios de familiarización con el lenguaje de programación _Python_."
   ]
  },
  {
   "cell_type": "markdown",
   "metadata": {},
   "source": [
    "Para evaluar las celdas se puede usar uno de los siguientes tres comandos:\n",
    "* Control-Enter: evalúa la celda y permanece en ella\n",
    "* Mayúsculas-Enter: evalúa la celda y selecciona la siguiente celda\n",
    "* Alt-Enter: evalúa la celda e inserta una celda vacía justo debajo"
   ]
  },
  {
   "cell_type": "markdown",
   "metadata": {},
   "source": [
    "###### Ejercicio 1"
   ]
  },
  {
   "cell_type": "markdown",
   "metadata": {},
   "source": [
    "Se pide definir una función `cuadrados` que, dada una secuencia `sec` de números, devuelva la lista de los cuadrados de esos números, en el mismo orden."
   ]
  },
  {
   "cell_type": "markdown",
   "metadata": {},
   "source": [
    "###### Ejemplos:\n",
    "\n",
    "* `cuadrados([2, -1.2, 3e2, 1j])` debe devolver `[4, 1.44, 90000.0, (-1+0j)]`\n",
    "* `cuadrados(i for i in range(10))` debe devolver `[0, 1, 4, 9, 16, 25, 36, 49, 64, 81]`"
   ]
  },
  {
   "cell_type": "code",
   "execution_count": 28,
   "metadata": {},
   "outputs": [
    {
     "data": {
      "text/plain": [
       "[0, 1, 4, 9, 16, 25, 36, 49, 64, 81]"
      ]
     },
     "execution_count": 28,
     "metadata": {},
     "output_type": "execute_result"
    }
   ],
   "source": [
    "cuadrados = []\n",
    "        "
   ]
  },
  {
   "cell_type": "code",
   "execution_count": 14,
   "metadata": {},
   "outputs": [],
   "source": [
    "#La forma en la que lo ha hecho la profesora.\n",
    "def cuadrados(sec):\n",
    "    for i in range(0,len(sec)):\n",
    "        sec[i]**=2\n",
    "    return sec\n"
   ]
  },
  {
   "cell_type": "code",
   "execution_count": 15,
   "metadata": {},
   "outputs": [
    {
     "data": {
      "text/plain": [
       "[4, 1.44, 90000.0, (-1+0j)]"
      ]
     },
     "execution_count": 15,
     "metadata": {},
     "output_type": "execute_result"
    }
   ],
   "source": [
    "cuadrados([2, -1.2, 3e2, 1j])"
   ]
  },
  {
   "cell_type": "code",
   "execution_count": null,
   "metadata": {},
   "outputs": [],
   "source": [
    "#Forma que lo ha hecho Lucía\n",
    "\n",
    "def cuadrados(lista)\n",
    "    lista_vacia=[]\n",
    "    for i in range(0,len(lista)):\n",
    "        lista[i]=lista[i]**2\n",
    "        lista_vacia.append(lista[i])\n",
    "    print(lista_vacia)"
   ]
  },
  {
   "cell_type": "code",
   "execution_count": 3,
   "metadata": {},
   "outputs": [],
   "source": [
    "#Hago que obligatoriamente sea una lista\n",
    "def cuadrados2 (sec):\n",
    "    #sec=list(sec) #[]\n",
    "    for i in range(0,len(sec)):\n",
    "        sec[i]**=2\n",
    "        return sec\n",
    "    "
   ]
  },
  {
   "cell_type": "code",
   "execution_count": 4,
   "metadata": {},
   "outputs": [
    {
     "data": {
      "text/plain": [
       "[4, -1.2, 300.0, 1j]"
      ]
     },
     "execution_count": 4,
     "metadata": {},
     "output_type": "execute_result"
    }
   ],
   "source": [
    "cuadrados2([2, -1.2, 3e2, 1j])"
   ]
  },
  {
   "cell_type": "code",
   "execution_count": 30,
   "metadata": {
    "scrolled": true
   },
   "outputs": [
    {
     "data": {
      "text/plain": [
       "[0, 1, 4, 9, 16, 25, 36, 49, 64, 81]"
      ]
     },
     "execution_count": 30,
     "metadata": {},
     "output_type": "execute_result"
    }
   ],
   "source": [
    "cuadrados(i for i in range(10))        "
   ]
  },
  {
   "cell_type": "markdown",
   "metadata": {},
   "source": [
    "###### Ejercicio 2"
   ]
  },
  {
   "cell_type": "markdown",
   "metadata": {},
   "source": [
    "Un número entero positivo se dice que es perfecto si coincide con la suma de todos sus divisores propios (es decir, distintos de él mismo). Se pide definir una función `escribe_perfectos` que, dados dos números enteros positivos `m` $\\leq$ `n`, imprima por pantalla todos los números perfectos entre `m` y `n`. Se pide también que se indiquen los divisores de cada número perfecto que se imprima."
   ]
  },
  {
   "cell_type": "markdown",
   "metadata": {},
   "source": [
    "###### Ejemplos:\n",
    "\n",
    "* `escribe_perfectos(1, 1000)` debe escribir en pantalla:\n",
    "\n",
    "```\n",
    "El número 6 es perfecto y sus divisores son [1, 2, 3]\n",
    "El número 28 es perfecto y sus divisores son [1, 2, 4, 7, 14]\n",
    "El número 496 es perfecto y sus divisores son [1, 2, 4, 8, 16, 31, 62, 124, 248]\n",
    "```"
   ]
  },
  {
   "cell_type": "code",
   "execution_count": 32,
   "metadata": {},
   "outputs": [],
   "source": [
    "def escribe_perfectos (m,n):\n",
    "    #if m >= 0 and n >= 0:\n",
    "        \n",
    "    for i in range(m,n+1):\n",
    "        lista_divisores=[]\n",
    "            \n",
    "        for j in range(m,n):\n",
    "            if i%j == 0 and j != i:\n",
    "                lista_divisores.append(j)\n",
    "                \n",
    "        if sum(lista_divisores)==i:\n",
    "            print(\"El número perfecto es\", i, \"y sus divisores son\", lista_divisores)\n",
    "                \n",
    "    \n",
    "#append es para concatenar"
   ]
  },
  {
   "cell_type": "code",
   "execution_count": 33,
   "metadata": {},
   "outputs": [
    {
     "name": "stdout",
     "output_type": "stream",
     "text": [
      "El número perfecto es 6 y sus divisores son [1, 2, 3]\n",
      "El número perfecto es 28 y sus divisores son [1, 2, 4, 7, 14]\n",
      "El número perfecto es 496 y sus divisores son [1, 2, 4, 8, 16, 31, 62, 124, 248]\n"
     ]
    }
   ],
   "source": [
    "escribe_perfectos(1,1000)"
   ]
  },
  {
   "cell_type": "code",
   "execution_count": 27,
   "metadata": {},
   "outputs": [],
   "source": [
    "#solución anabel\n",
    "\n",
    "def escribe_perfectos_2 (i,j):\n",
    "    #por cada número entre i y j\n",
    "    for num1 in range(i, j+1):\n",
    "        divisores=[]\n",
    "        #busco cuales son sus divisores, entre 1 y él mismo (sin incluirlo)\n",
    "        for num2 in range(1, num1):\n",
    "            if num1%num2 == 0:\n",
    "                #los guardo en una lista\n",
    "                divisores.append(num2)\n",
    "        #hago la suma de los divisores que he encontrado\n",
    "        #suma=0\n",
    "        #for divisor in divisores:\n",
    "            #suma += divisor\n",
    "        #Es la suma igual al numero inicial\n",
    "        if num1 == sum(divisores):\n",
    "            print(\"El número\", num1, \"es perfecto y sus divisores son\", divisores)"
   ]
  },
  {
   "cell_type": "code",
   "execution_count": 28,
   "metadata": {},
   "outputs": [
    {
     "name": "stdout",
     "output_type": "stream",
     "text": [
      "El número 6 es perfecto y sus divisores son [1, 2, 3]\n",
      "El número 28 es perfecto y sus divisores son [1, 2, 4, 7, 14]\n",
      "El número 496 es perfecto y sus divisores son [1, 2, 4, 8, 16, 31, 62, 124, 248]\n"
     ]
    }
   ],
   "source": [
    "escribe_perfectos_2(1, 1000)"
   ]
  },
  {
   "cell_type": "markdown",
   "metadata": {},
   "source": [
    "###### Ejercicio 3"
   ]
  },
  {
   "cell_type": "markdown",
   "metadata": {},
   "source": [
    "Consideremos diccionarios cuyas claves son cadenas de caracteres de longitud uno y los valores asociados son números enteros no negativos, como por ejemplo el siguiente diccionario `d`:"
   ]
  },
  {
   "cell_type": "code",
   "execution_count": 63,
   "metadata": {},
   "outputs": [],
   "source": [
    "d = {'a': 5, 'b': 10, 'c': 12, 'd': 11, 'e': 15, 'f': 20, 'g': 15, 'h': 9, 'i': 7, 'j': 2}"
   ]
  },
  {
   "cell_type": "code",
   "execution_count": null,
   "metadata": {},
   "outputs": [],
   "source": [
    "#En Python por defecto no existen tablas, para eso se usan los diccionarios. diccionarios={claves: valor, clave2: valor2}. claves (key) valor(value)\n",
    "#para integrarla, podemos integrar el for. -> for elemento in diccionario:\n",
    "                                              --------\n",
    "                                              #for c,v in diccionario:\n",
    "                                            #  c\n",
    "                                            #  v\n",
    "#Si no ponemos nada, siempre se refiere a la claves -> for elemento in diccionario:\n",
    "                "
   ]
  },
  {
   "cell_type": "code",
   "execution_count": null,
   "metadata": {},
   "outputs": [],
   "source": [
    "#ejemplo diccionario\n",
    "\n",
    "notas = {\"Juan\": 8, \"Ana\": 7, \"Mary\": 6,}\n",
    "\n",
    "for nota in notas:\n",
    "    print(nota)\n",
    "\n",
    "#con items estoy diciendo que coja la clave y el valor\n",
    "for (keys,values) in notas.items() :\n",
    "    print(nota)\n",
    "    print(nombre)\n",
    "    \n",
    "#para que solo nos den los valores\n",
    "for values in notas.values() :\n",
    "    print(nota)\n",
    "    \n",
    "#si se integran varias cosas a la vez tienen que estar separadas por una coma y entre paréntesis.\n",
    "# .items\n",
    "# .keys()\n",
    "# .values()\n",
    "\n",
    "for nota in notas.values() :\n",
    "    print(nota)\n",
    "for nombre in notas() :\n",
    "    print(nombre)\n",
    "for (nombre, nota) in notas.items() :\n",
    "    print(nombre, nota)\n"
   ]
  },
  {
   "cell_type": "code",
   "execution_count": 11,
   "metadata": {},
   "outputs": [],
   "source": [
    "d = {'a': 5, 'b': 10, 'c': 12, 'd': 11, 'e': 15, 'f': 20, 'g': 15, 'h': 9, 'i': 7, 'j': 2}"
   ]
  },
  {
   "cell_type": "code",
   "execution_count": 12,
   "metadata": {},
   "outputs": [],
   "source": [
    "def histograma_horizontal(d):\n",
    "    sorted(d)     \n",
    "    for (keys, values) in d.items() :\n",
    "        print(keys, \": \", \"*\" * values)\n",
    "#en el print se hace la clave (a): y arteriscos por el valor\n",
    "    "
   ]
  },
  {
   "cell_type": "code",
   "execution_count": 13,
   "metadata": {},
   "outputs": [
    {
     "name": "stdout",
     "output_type": "stream",
     "text": [
      "a :  *****\n",
      "b :  **********\n",
      "c :  ************\n",
      "d :  ***********\n",
      "e :  ***************\n",
      "f :  ********************\n",
      "g :  ***************\n",
      "h :  *********\n",
      "i :  *******\n",
      "j :  **\n"
     ]
    }
   ],
   "source": [
    "histograma_horizontal(d)"
   ]
  },
  {
   "cell_type": "code",
   "execution_count": null,
   "metadata": {},
   "outputs": [],
   "source": [
    "#Otra forma de hacerlo\n",
    "\n",
    "def histograma_horizontal1(d)\n",
    "    sorted(d)\n",
    "    for clave in d\n",
    "        valor = dic[clave]\n",
    "        print(calve, \": \", \"*\" * valor)"
   ]
  },
  {
   "cell_type": "markdown",
   "metadata": {},
   "source": [
    "Se pide definir una función `histograma_horizontal` que, dado un diccionario del tipo anterior, escriba en pantalla el histograma de barras horizontales asociado, imprimiendo las barras de arriba a abajo en el orden que determina la función `sorted` sobre las claves, tal y como se ilustra en el siguiente ejemplo:"
   ]
  },
  {
   "cell_type": "markdown",
   "metadata": {},
   "source": [
    "* `histograma_horizontal(d)` debe escribir en pantalla:\n",
    "\n",
    "```\n",
    "a: *****\n",
    "b: **********\n",
    "c: ************\n",
    "d: ***********\n",
    "e: ***************\n",
    "f: ********************\n",
    "g: ***************\n",
    "h: *********\n",
    "i: *******\n",
    "j: **\n",
    "```"
   ]
  },
  {
   "cell_type": "code",
   "execution_count": 76,
   "metadata": {},
   "outputs": [
    {
     "name": "stdout",
     "output_type": "stream",
     "text": [
      "a :  *****\n",
      "b :  **********\n",
      "c :  ************\n",
      "d :  ***********\n",
      "e :  ***************\n",
      "f :  ********************\n",
      "g :  ***************\n",
      "h :  *********\n",
      "i :  *******\n",
      "j :  **\n"
     ]
    }
   ],
   "source": [
    "\n",
    "histograma_horizontal(d)"
   ]
  },
  {
   "cell_type": "markdown",
   "metadata": {},
   "source": [
    "Se pide definir una función `histograma_vertical` que, dado un diccionario del tipo anterior, escriba en pantalla el histograma de barras verticales asociado, imprimiendo las barras de izquierda a derecha en el orden que determina la función `sorted` sobre las claves, tal y como se ilustra en el siguiente ejemplo:"
   ]
  },
  {
   "cell_type": "markdown",
   "metadata": {},
   "source": [
    "* `histograma_vertical(d)` debe escribir en pantalla:\n",
    "\n",
    "```\n",
    "          *        \n",
    "          *        \n",
    "          *        \n",
    "          *        \n",
    "          *        \n",
    "        * * *      \n",
    "        * * *      \n",
    "        * * *      \n",
    "    *   * * *      \n",
    "    * * * * *      \n",
    "  * * * * * *      \n",
    "  * * * * * * *    \n",
    "  * * * * * * *    \n",
    "  * * * * * * * *  \n",
    "  * * * * * * * *  \n",
    "* * * * * * * * *  \n",
    "* * * * * * * * *  \n",
    "* * * * * * * * *  \n",
    "* * * * * * * * * *\n",
    "* * * * * * * * * *\n",
    "a b c d e f g h i j\n",
    "```"
   ]
  },
  {
   "cell_type": "code",
   "execution_count": 55,
   "metadata": {},
   "outputs": [],
   "source": [
    "d = {'a': 5, 'b': 10, 'c': 12, 'd': 11, 'e': 15, 'f': 20, 'g': 15, 'h': 9, 'i': 7, 'j': 2}"
   ]
  },
  {
   "cell_type": "code",
   "execution_count": 89,
   "metadata": {},
   "outputs": [],
   "source": [
    "def histograma_vertical(d):\n",
    "    sorted(d)      #determinar el orden, pero en este caso ya nos lo dan ordenado\n",
    "    #h_max = d[\"f\"]  #primero determinamos cual es la altura máxima y la mínima. Con forme lo he hecho yo, me sale un asterísco de más en la a\n",
    "    #h_min = d[\"j\"]\n",
    "    h_max = max(d.values())\n",
    "    for altura in reversed(range(1,h_max+1)):  #un for no puede ir de un número mayor a uno menor pero sí de uno menor a otro mayor. Usamos range y reverse para hacerlo al revés, que vaya de mayor a menor que es lo que nosotros queremos.\n",
    "        linea = str() #creamos una cadena vacía     #Si ponemos 1,h_max_1 es más presiso que si ponemos 0,h_max, es un cacao. Depende del rango que cojamos.\n",
    "        for value in d.values():\n",
    "            if value >= altura:\n",
    "                linea+=\"* \"\n",
    "            else:\n",
    "                linea+=\"  \"\n",
    "        print(linea)\n",
    "    names=list(d.keys())\n",
    "    string_names=\" \".join(names)\n",
    "    print(string_names)\n",
    "\n",
    " #decidir la altura máxima, donde a f le corresponde un asterisco y al resto un espacio \n",
    "#Hay que hacer dos for. un for que recorra desde la altura máxima hasta la mínima\n",
    "\n",
    "#La profe ha determiando la máxima altura de otra forma\n",
    "#max_altura = max(d.values())"
   ]
  },
  {
   "cell_type": "code",
   "execution_count": null,
   "metadata": {},
   "outputs": [],
   "source": []
  },
  {
   "cell_type": "code",
   "execution_count": null,
   "metadata": {},
   "outputs": [],
   "source": []
  },
  {
   "cell_type": "code",
   "execution_count": 90,
   "metadata": {},
   "outputs": [
    {
     "name": "stdout",
     "output_type": "stream",
     "text": [
      "          *         \n",
      "          *         \n",
      "          *         \n",
      "          *         \n",
      "        * * *       \n",
      "        * * *       \n",
      "        * * *       \n",
      "    *   * * *       \n",
      "    * * * * *       \n",
      "  * * * * * *       \n",
      "  * * * * * * *     \n",
      "  * * * * * * *     \n",
      "  * * * * * * * *   \n",
      "  * * * * * * * *   \n",
      "* * * * * * * * *   \n",
      "* * * * * * * * *   \n",
      "* * * * * * * * *   \n",
      "* * * * * * * * * * \n",
      "* * * * * * * * * * \n",
      "* * * * * * * * * * \n",
      "a b c d e f g h i j\n"
     ]
    }
   ],
   "source": [
    "histograma_vertical(d)"
   ]
  },
  {
   "cell_type": "markdown",
   "metadata": {},
   "source": [
    "#### Ejercicio 4 \n",
    "\n",
    "Crea una función llamada booking que dados unos datos sobre el precio y la distancia al centro de\n",
    "distintos hoteles, calcule cual es el mejor para el usuario/a.\n",
    "Para ello, crea un diccionario que contenga datos sobre el precio por noche y la distancia al centro de distintos\n",
    "hoteles. Busca dentro de ese diccionario las opciones que entren dentro del umbral establecido.\n",
    "Como inputs la función recibirá: \n",
    "\n",
    "* Un elemento llamado preferencia_distancia que recoja la distancia máxima a la\n",
    "que quiere estar del centro\n",
    "* Un elemento llamado preferencia_precio que recoja el precio máximo que quiere\n",
    "pagar\n",
    "\n",
    "Como dato de salida dirá qué hotel/es son los más idóneos."
   ]
  },
  {
   "cell_type": "code",
   "execution_count": null,
   "metadata": {},
   "outputs": [],
   "source": [
    "#diccionario de precios\n",
    "#diccionario de distancia\n",
    "\n",
    "def booking(preferencia_distancia, preferencia_precio):\n",
    "    for distancia in range(0, preferencia_distancia):\n",
    "        if distancia < preferencia_distacia:\n",
    "            print(\"No hay hoteles cerca\")\n",
    "        lista_hoteles_distancia = ()\n",
    "        elif distancia >= preferencia_distancia:\n",
    "            print(lista_hoteles_distancia)\n",
    "    \n",
    "        \n",
    "\n",
    "    "
   ]
  },
  {
   "cell_type": "code",
   "execution_count": null,
   "metadata": {},
   "outputs": [],
   "source": [
    "#Cómo lo hace Ana Belén."
   ]
  },
  {
   "cell_type": "markdown",
   "metadata": {},
   "source": [
    "#### Ejercicio 5\n",
    "Crear una función que determine si una palabra ingresada por el usuario es un palíndromo o no. \n",
    "La función debe recibir una palabra como entrada, realizar la verificación y devolver un mensaje \n",
    "indicando si la palabra es un palíndromo o no"
   ]
  },
  {
   "cell_type": "code",
   "execution_count": null,
   "metadata": {},
   "outputs": [],
   "source": []
  },
  {
   "cell_type": "markdown",
   "metadata": {},
   "source": [
    "###### Ejercicio 6"
   ]
  },
  {
   "cell_type": "markdown",
   "metadata": {},
   "source": [
    "Supongamos que queremos simular la trayectoria de un proyectil que se dispara en un punto dado a una determinada altura inicial. El disparo se realiza hacia adelante con una velocidad inicial y con un determinado ángulo. Inicialmente el proyectil avanzará subiendo, pero por la fuerza de la gravedad, en un momento dado empezará a bajar hasta que aterrice. Por simplificar, supondremos que no existe rozamiento ni resistencia del viento.\n",
    "\n",
    "Se pide definir una clase `Proyectil` que sirva para representar el estado del proyectil en un instante de tiempo dado. Para ello, se necesitan al menos atributos de datos que guarden la siguiente información:\n",
    "* Distancia recorrida (en horizontal)\n",
    "* Altura\n",
    "* Velocidad horizontal\n",
    "* Velocidad vertical\n",
    "\n",
    "Además, se pide dotar a la clase `Proyectil` de los siguientes tres métodos:\n",
    "* obtener_pos_x: devuelve la distancia horizontal recorrida \n",
    "* obtener_pos_y: devuelve la distancia vertical recorrida \n",
    "* `actualizar_posición`: dada una cantidad `t` de segundos, actualiza la posición y la velocidad del proyectil tras haber transcurrido ese tiempo\n",
    "\n",
    "Una vez definida la clase `Proyectil`, se pide definir una función `aterriza` que, dados los datos de `altura`, `velocidad`, `ángulo` e `intervalo`, imprima por pantalla las distintas posiciones por las que pasa un proyectil que se ha disparado con esa `velocidad`, `ángulo` (en grados) y una `altura` inicial. Se mostrará la posición del proyectil en cada `intervalo` de tiempo, hasta que aterriza. Además también debe imprimir la altura máxima que ha alcanzado al final de cada intervalo, cuántos intervalos de tiempo ha tardado en aterrizar y el alcance que ha tenido.\n",
    "\n",
    "Indicaciones:\n",
    "1. Si el proyectil tiene una velocidad inicial $v$ y se lanza con un ángulo $\\theta$, las componentes horizontal y vertical de la velocidad inicial son $v \\times \\cos(\\theta)$ y $v \\times \\sin(\\theta)$, respectivamente.\n",
    "2. La componente horizontal de la velocidad, en ausencia de rozamiento y viento, podemos suponer que permanece constante.\n",
    "3. La componente vertical de la velocidad cambia de la siguiente manera tras un intervalo de tiempo $t$: si $vy_0$ es la velocidad vertical al inicio del intervalo, entonces al final del intervalo tiene una velocidad $vy_1 = vy_0 - 9.8 \\times t$, debido a la gravedad de la Tierra.\n",
    "4. En ese caso, si el proyectil se encuentra a una altura $h_0$, tras un intervalo de tiempo $t$ se encontrará a una altura $h_1 = h_0 + vm  \\times t$, donde $vm$ es la media entre las anteriores $vy_0$ y $vy_1$."
   ]
  },
  {
   "cell_type": "markdown",
   "metadata": {},
   "source": [
    "###### Ejemplo:\n",
    "\n",
    "* `aterriza(30, 1, 20, 0.1)` debe escribir en pantalla:\n",
    "\n",
    "```\n",
    "Proyectil en posición(0.0, 30.0)\n",
    "Proyectil en posición(0.1, 30.0)\n",
    "Proyectil en posición(0.2, 29.9)\n",
    "Proyectil en posición(0.3, 29.7)\n",
    "Proyectil en posición(0.4, 29.4)\n",
    "Proyectil en posición(0.5, 28.9)\n",
    "Proyectil en posición(0.6, 28.4)\n",
    "Proyectil en posición(0.7, 27.8)\n",
    "Proyectil en posición(0.8, 27.1)\n",
    "Proyectil en posición(0.8, 26.3)\n",
    "Proyectil en posición(0.9, 25.4)\n",
    "Proyectil en posición(1.0, 24.4)\n",
    "Proyectil en posición(1.1, 23.4)\n",
    "Proyectil en posición(1.2, 22.2)\n",
    "Proyectil en posición(1.3, 20.9)\n",
    "Proyectil en posición(1.4, 19.5)\n",
    "Proyectil en posición(1.5, 18.0)\n",
    "Proyectil en posición(1.6, 16.4)\n",
    "Proyectil en posición(1.7, 14.7)\n",
    "Proyectil en posición(1.8, 13.0)\n",
    "Proyectil en posición(1.9, 11.1)\n",
    "Proyectil en posición(2.0, 9.1)\n",
    "Proyectil en posición(2.1, 7.0)\n",
    "Proyectil en posición(2.2, 4.9)\n",
    "Proyectil en posición(2.3, 2.6)\n",
    "Proyectil en posición(2.3, 0.2)\n",
    "\n",
    "Tras 26 intervalos de 0.1 segundos (2.6 segundos) el proyectil ha aterrizado.\n",
    "Ha recorrido una distancia de 2.4 metros\n",
    "Ha alcanzado una altura máxima de 30.0 metros\n",
    "```"
   ]
  },
  {
   "cell_type": "code",
   "execution_count": null,
   "metadata": {
    "collapsed": true
   },
   "outputs": [],
   "source": []
  }
 ],
 "metadata": {
  "kernelspec": {
   "display_name": "Python 3 (ipykernel)",
   "language": "python",
   "name": "python3"
  },
  "language_info": {
   "codemirror_mode": {
    "name": "ipython",
    "version": 3
   },
   "file_extension": ".py",
   "mimetype": "text/x-python",
   "name": "python",
   "nbconvert_exporter": "python",
   "pygments_lexer": "ipython3",
   "version": "3.11.5"
  }
 },
 "nbformat": 4,
 "nbformat_minor": 1
}
