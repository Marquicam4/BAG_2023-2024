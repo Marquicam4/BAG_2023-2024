{
 "cells": [
  {
   "cell_type": "markdown",
   "id": "25e406e4",
   "metadata": {},
   "source": [
    "# Python básico\n",
    "\n",
    "Ana Belén Romero Losada\n",
    "Departamento de Ciencias de la Computación e Inteligencia Artificial\n",
    "Universidad de Sevila\n",
    "\n",
    "En esta hoja de trabajo vamos a ver lo esencial de Python para poder empezar a practicar con el lenguaje.\n",
    "\n",
    "En el entorno Jupyter se trabaja Python sobre un notebook u hoja de trabajo. Esta hoja de trabajo está formada por una secuencia de cajas, que pueden ser de texto, en las que explicar ideas y conceptos, o de código, en las que definir o evaluar funciones Python.\n"
   ]
  },
  {
   "cell_type": "markdown",
   "id": "6f83aa55",
   "metadata": {},
   "source": [
    "##  Ejercicio 1\n",
    "\n",
    "Crea una función que resuelva una ecuación de segundo grado en jupyter y en R. Compara las diferencias a la hora de realizar operaciones aritméticas y lógicas, declarar variables/objetos y usar las estructuras de control. \n",
    "\n",
    "PISTA: existe una función llamada round() para redondear. Se usa como típicamente se usa en R."
   ]
  },
  {
   "cell_type": "code",
   "execution_count": 1,
   "id": "5a496365",
   "metadata": {},
   "outputs": [],
   "source": [
    "#Crea la funcion llamada calculadora\n",
    "##comprueba si el número que iría dentro de la raiz cuadrada es negativo\n",
    "###Devuelve 0 y un mensaje de error\n",
    "##en el caso que no lo sea, resuelve la ecuacion\n",
    "### imprime por pantalla los siguientes mensajes\n",
    "####\"ambas soluciones son válidas, x puede valer sol1 y sol2\"\n",
    "####\"Solo la solucion 1 es válida, x vale sol1\"\n",
    "####\"Solo la solucion 2 es válida, x vale sol2\"\n",
    "\n",
    "        \n",
    "        "
   ]
  },
  {
   "cell_type": "code",
   "execution_count": 6,
   "id": "925102fd",
   "metadata": {},
   "outputs": [],
   "source": [
    "def calculadora (a, b, c):\n",
    "    previo= (b)**2 - (4*(a)*(c))\n",
    "    \n",
    "## La función stop no me ha funcionado en python, pero en R sí\n",
    "    if previo < 0:\n",
    "        print(\"Esta ecuación no tiene solución\")\n",
    "        return(0)\n",
    "    else: \n",
    "        sol1 = (-(b) + ((b)**2 - (4*(a)*c))**1/2)/(2*(a))\n",
    "        sol2 = (-(b) - ((b)**2 - (4*(a)*c))**1/2)/(2*(a))\n",
    "    \n",
    "## Los test es lo que yo veo si da cero o no\n",
    "        test1 = (a*(sol1)**2) + (b*sol1) + c\n",
    "        test2 = (a*(sol2)**2) + (b*sol2) + c\n",
    "    if round(test1) == 0 and round(test2) == 0:\n",
    "        print(\"Ambas soluciones son válidas, x puede valer\", sol1, \"ó\", sol2)\n",
    "##Ariba he querido que me compare un TRUE con otro TRUE\n",
    "    elif round(test1) == 0 and round(test2) != 0:\n",
    "        print(\"Solo la solución 1 es válida, por lo que x solo puede valer\", sol1)\n",
    "    elif round(test1) != 0 and round(test2) == 0:\n",
    "        print(\"Solo la solución 2 es válida, por lo que x solo puede valer\", sol2)\n",
    "## Aquí los print no hace falta que vayan acompañado por los paste, (para que combine letras con números o soluciones)."
   ]
  },
  {
   "cell_type": "code",
   "execution_count": 7,
   "id": "12dde7a4",
   "metadata": {},
   "outputs": [
    {
     "name": "stdout",
     "output_type": "stream",
     "text": [
      "Esta ecuación no tiene solución\n"
     ]
    },
    {
     "data": {
      "text/plain": [
       "0"
      ]
     },
     "execution_count": 7,
     "metadata": {},
     "output_type": "execute_result"
    }
   ],
   "source": [
    "calculadora(2,4,7)"
   ]
  },
  {
   "cell_type": "markdown",
   "id": "0bdfc9f1",
   "metadata": {},
   "source": [
    "## Ejercicio 2\n",
    "\n",
    "Traduce este pseudocódigo a código en R y python simultáneamente. \n",
    "\n"
   ]
  },
  {
   "cell_type": "code",
   "execution_count": null,
   "id": "d22b6179",
   "metadata": {},
   "outputs": [],
   "source": [
    "#Declara una variable llamada x que valga 2\n",
    "#Súmale 2 a x\n",
    "\n",
    "#Las variables se nombran como un igual\n",
    "x=2\n",
    "#También puedo darle a la vez varios nombre a varias variables.\n",
    "x,y,b=2,3,45\n",
    "#si queremos ver los tres valores a la vez hacemos un print.\n",
    "print(x,y,b)"
   ]
  },
  {
   "cell_type": "code",
   "execution_count": null,
   "id": "46fddde9",
   "metadata": {},
   "outputs": [],
   "source": [
    "#Voy a modificar el objeto con una operación aritmética con ese valor. Esto se llama asignación aumentada.\n",
    "x+=2\n",
    "x-=3\n",
    "\n",
    "#En vez de variable, deberíamos hablar de objetos."
   ]
  },
  {
   "cell_type": "code",
   "execution_count": 17,
   "id": "c04298d3",
   "metadata": {},
   "outputs": [],
   "source": [
    "#Declara una variable llamada palabra que valga \"hola\"\n",
    "#Cuadrupicla la variable palabra\n",
    "\n",
    "#Puedo trabajar con una string directamente y usar lo que tiene dentro usarlo como individuales. \n",
    "#cadena de carácteres.\n"
   ]
  },
  {
   "cell_type": "code",
   "execution_count": 11,
   "id": "815f736f",
   "metadata": {},
   "outputs": [
    {
     "data": {
      "text/plain": [
       "'holaholaholahola'"
      ]
     },
     "execution_count": 11,
     "metadata": {},
     "output_type": "execute_result"
    }
   ],
   "source": [
    "palabra=\"hola\"\n",
    "palabra*=4\n",
    "palabra\n",
    "\n",
    "#En R se trata a hola como un bloque. En Python se trata directamente como un vector."
   ]
  },
  {
   "cell_type": "code",
   "execution_count": null,
   "id": "a9457486",
   "metadata": {},
   "outputs": [],
   "source": [
    "#añade las palabras \"mundo que tal\" a palabra\n",
    "palabra+=\"mundo que tal\"\n",
    "palabra\n",
    "\n",
    "palabra.index(\"mundo\")\n",
    "#Te indica en que posición esta. Cada letra es un elemento. la palabra mundo empieza en la string en el elemento 20\"\n",
    "\n",
    "palabra.upper()\n",
    "#upper te lo pone todo en mayúscula. Si pones directamente () te pone todo en mayúscula.\n",
    "\n",
    "palabra.find(\"tal\")\n",
    "#para encontrar si dentro de tu string hay algo. Me dice que sí o que no y en qué posición está.\n",
    "\n",
    "palabra.count(\"a\")\n",
    "\n",
    "\n",
    "#encuentra en que posicion está mundo\n",
    "#escribelo en mayuscula y cuenta cuantas \"a\" hay (esto hazlo solo en python)\n"
   ]
  },
  {
   "cell_type": "code",
   "execution_count": 13,
   "id": "b3dee2bb",
   "metadata": {},
   "outputs": [
    {
     "data": {
      "text/plain": [
       "'holaho'"
      ]
     },
     "execution_count": 13,
     "metadata": {},
     "output_type": "execute_result"
    }
   ],
   "source": [
    "palabra[0:6]\n",
    "#Puede acceder distintas partes de mi string, contando con los espacios. Aquí la primera ubicación es un 0, sin embargo en R empieza en 1.\n",
    "#Tambien existe la posibilidad de ponerle dos puntos, y me indica el paso con el que va a hacer la frecuencia.\n",
    "palabra[0:12:2]\n",
    "#ahí va de dos en dos."
   ]
  },
  {
   "cell_type": "code",
   "execution_count": null,
   "id": "76197b13",
   "metadata": {},
   "outputs": [],
   "source": [
    "#que vaya desde el principio hasta el final y del revés (de atrás hacia a lante)\n",
    "palabra[::-1]\n",
    "\n",
    "##HASTA AQUÍ LAS STRING. Pero lo que más vamos a usar con las listas."
   ]
  },
  {
   "cell_type": "markdown",
   "id": "cd1fc86f",
   "metadata": {},
   "source": [
    "## Ejercicio 3\n",
    "\n",
    "Vamos a prácticar con las demás clases de objetos en python."
   ]
  },
  {
   "cell_type": "code",
   "execution_count": 5,
   "id": "95a15183",
   "metadata": {},
   "outputs": [],
   "source": [
    "#############tuplas\n",
    "tupla1=(1,4,5,\"hola\")\n",
    "#una tupla no puede tener dentro otra tupla\n",
    "\n",
    "\n",
    "#Crea una tupla con tres elementos, el elemento más parecido a un vector\n",
    "tupla1=(1,4,5,\"hola\")\n",
    "\n",
    "#Tambié se reconoce como tupla lo sigiente\n",
    "tupla2=1,2,3,4\n",
    "\n",
    "#Crea una tupla con un elemento\n",
    "tula_uno=1,\n",
    "\n",
    "#Crea una tupla vacía. En esta sí es recomendable poner paréntesis\n",
    "tupla_vacia=()\n",
    "\n",
    "#recorre la tupla al revés\n",
    "tupla1[::-1]\n",
    "tupla[3]\n",
    "\n",
    "#está el valor 6 en la tupla?\n",
    "1 in tupla1\n",
    "#Te sale como resultado TRUE o FALSE.\n",
    "\n",
    "#Concatena, es decir, añade al final de la tupla: el valor 10\n",
    "#Las asignaciones sumatorias que se usa con las tuplas es:\n",
    "tupla1+=(\"hola\",)\n",
    "tupla1\n",
    "#Solo se pueden concatenar tuplas con tuplas, no con strings. Si pongo solo \"hola\" lo considera como string, hay que ponerlo (\"hola\",) o \"hola\",\n",
    "\n",
    "#Modifica el valor de la posición 2 en la tupla por la palabra \"hola\"\n",
    "tupla1[2]=5\n",
    "#sale error. Tendíamos que usar listas."
   ]
  },
  {
   "cell_type": "code",
   "execution_count": 19,
   "id": "305c0ac9",
   "metadata": {},
   "outputs": [
    {
     "ename": "TypeError",
     "evalue": "sequence item 4: expected str instance, int found",
     "output_type": "error",
     "traceback": [
      "\u001b[1;31m---------------------------------------------------------------------------\u001b[0m",
      "\u001b[1;31mTypeError\u001b[0m                                 Traceback (most recent call last)",
      "Cell \u001b[1;32mIn[19], line 29\u001b[0m\n\u001b[0;32m     26\u001b[0m lista_vacia\n\u001b[0;32m     27\u001b[0m \u001b[38;5;66;03m#join no pasa números a string. Une los elementos de la lista cuando son caracteres\u001b[39;00m\n\u001b[1;32m---> 29\u001b[0m \u001b[38;5;124m\"\u001b[39m\u001b[38;5;124m y \u001b[39m\u001b[38;5;124m\"\u001b[39m\u001b[38;5;241m.\u001b[39mjoin(lista1)\n",
      "\u001b[1;31mTypeError\u001b[0m: sequence item 4: expected str instance, int found"
     ]
    }
   ],
   "source": [
    "#############listas\n",
    "\n",
    "l=[1,2,5]\n",
    "#Hay que ponerle corchetes para que no las confunda con tuplas. en las listas puede haber cualquier cosa.\n",
    "lista2 = [1,2,3,l]\n",
    "lista2\n",
    "\n",
    "#Crea una lista que dentro tenga palabras\n",
    "lista1= [\"hola\", \"mundo\", \"que\", \"tal\"]\n",
    "\n",
    "#Modifica el valor de la posición 2 en la lista por la palabra \"hola\"\n",
    "lista1[2]=\"hola\"\n",
    "lista1\n",
    "\n",
    "#Concatena el valor 122 con tu lista. Le tengo que poner los corchetes para que tome el valor como una lista.\n",
    "lista1+=[122]\n",
    "lista1\n",
    "\n",
    "#Concatena el valor \"hola\" con tu lista. Hay que ponerle corchetes, porque si no te los añade de letra en letra.\n",
    "lista1+=[\"hola\"]\n",
    "lista1\n",
    "\n",
    "#transforma la lista en una string con la función .join\n",
    "lista_vacia=[]\n",
    "lista_vacia.append(2)\n",
    "lista_vacia\n",
    "#join no pasa números a string (habría que quitarle el 122). Une los elementos de la lista cuando son caracteres\n",
    "\" y \".join(lista1)\n",
    "\n",
    "\n",
    "#####for\n",
    "def mi_primer_bucle(lista):\n",
    "    #for (i in 1:length(lista)). Así lo hacíamos en R.\n",
    "    for i in range(0,(len(lista)+1)):\n",
    "    #Se pone el +1 porque empieza a contar desde 0.\n",
    "        lista[i] <- x+1\n",
    "    for precio in lista\n",
    "        precio+1"
   ]
  },
  {
   "cell_type": "code",
   "execution_count": null,
   "id": "37b322bc",
   "metadata": {},
   "outputs": [],
   "source": [
    "#############Diccionarios\n",
    "#Crea un diccionario\n",
    "#accede al valor de la 2ª clave\n",
    "#Añade una clave nueva con su correspondiente valor\n",
    "#Accede solo a los valores, o solo a las claves"
   ]
  }
 ],
 "metadata": {
  "kernelspec": {
   "display_name": "Python 3 (ipykernel)",
   "language": "python",
   "name": "python3"
  },
  "language_info": {
   "codemirror_mode": {
    "name": "ipython",
    "version": 3
   },
   "file_extension": ".py",
   "mimetype": "text/x-python",
   "name": "python",
   "nbconvert_exporter": "python",
   "pygments_lexer": "ipython3",
   "version": "3.11.5"
  }
 },
 "nbformat": 4,
 "nbformat_minor": 5
}
